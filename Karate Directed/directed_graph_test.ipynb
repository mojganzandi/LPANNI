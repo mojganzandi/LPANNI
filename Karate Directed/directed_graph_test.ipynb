{
  "nbformat": 4,
  "nbformat_minor": 0,
  "metadata": {
    "colab": {
      "name": "directed graph test.ipynb",
      "provenance": [],
      "collapsed_sections": []
    },
    "kernelspec": {
      "display_name": "Python 3",
      "name": "python3"
    },
    "language_info": {
      "name": "python"
    }
  },
  "cells": [
    {
      "cell_type": "code",
      "metadata": {
        "id": "lzA3AN5OGq4Z"
      },
      "source": [
        "import pandas as pd \n",
        "import networkx as nx\n",
        "import numpy as np\n",
        "import matplotlib.pyplot as plt\n",
        "import matplotlib as mpl\n",
        "from datetime import datetime\n",
        "import statistics\n",
        "import io"
      ],
      "execution_count": 177,
      "outputs": []
    },
    {
      "cell_type": "code",
      "metadata": {
        "id": "Wra3zoqkGw11"
      },
      "source": [
        "#information about graph:\n",
        "def info(g):\n",
        "    #type \n",
        "    print(\"type: \", type(g))\n",
        "    #info\n",
        "    print(\"info: \", nx.info(g))\n",
        "    #nodes\n",
        "    print(\"nodes: \\n\", g.nodes())\n",
        "    #edges\n",
        "    print(\"edges: \\n\", g.edges())\n",
        "    #num of nodes\n",
        "    print(\"number of nodes : \", len(g.nodes()))\n",
        "    #check edges:\n",
        "    print(\"number of edges : \", len(g.edges()))"
      ],
      "execution_count": 178,
      "outputs": []
    },
    {
      "cell_type": "code",
      "metadata": {
        "id": "uaJ-uuJAGw9T"
      },
      "source": [
        "#visualization:\n",
        "def visual(g):\n",
        "    plt.title('My Graph!')\n",
        "    plt.savefig(\"graph.png\")\n",
        "    g = nx.DiGraph()\n",
        "    g.add_edges_from(g.edges())\n",
        "    pos=nx.spring_layout(g, seed=7) \n",
        "    plt.figure(figsize=(15,15))\n",
        "    nx.draw_networkx(g,pos,with_labels=True)\n",
        "    plt.show()\n"
      ],
      "execution_count": 179,
      "outputs": []
    },
    {
      "cell_type": "code",
      "metadata": {
        "id": "NnKHM-P-GxPy"
      },
      "source": [
        "\n",
        "#main\n",
        "def main():\n",
        "    df = pd.read_csv('karate.csv')\n",
        "    output_file = 'community.txt'\n",
        "    #edgeList:\n",
        "    graph = nx.from_pandas_edgelist(df,source=\"From\",target=\"To\")\n",
        "    choice = 1\n",
        "    t = 0\n",
        "    while choice != 0:\n",
        "        choice = int(input(\"Enter your choice! 1:information 2:visualization 3:compute NI 4:compute SIM 5:compute NNI 6:result 7:Time Complexity of Algorithm 0:exit : \"))\n",
        "        if choice == 1:\n",
        "            info(graph)\n",
        "        elif choice == 2:\n",
        "            visual(graph)\n",
        "        \n",
        "        elif choice == 0:\n",
        "            print(\"exit\")\n",
        "        else:\n",
        "            print(\"Your choice is wrong! \")\n",
        "          "
      ],
      "execution_count": 180,
      "outputs": []
    },
    {
      "cell_type": "code",
      "metadata": {
        "colab": {
          "base_uri": "https://localhost:8080/"
        },
        "id": "dQPe0pAgGxVb",
        "outputId": "24429b60-4841-4cd3-fdaa-7fc406dd3845"
      },
      "source": [
        "if __name__ == \"__main__\":\n",
        "    main()"
      ],
      "execution_count": 181,
      "outputs": [
        {
          "output_type": "stream",
          "name": "stdout",
          "text": [
            "Enter your choice! 1:information 2:visualization 3:compute NI 4:compute SIM 5:compute NNI 6:result 7:Time Complexity of Algorithm 0:exit : 1\n",
            "type:  <class 'networkx.classes.graph.Graph'>\n",
            "info:  Graph with 34 nodes and 78 edges\n",
            "nodes: \n",
            " [1, 2, 3, 4, 5, 6, 7, 8, 9, 10, 11, 12, 13, 14, 17, 18, 20, 22, 24, 26, 25, 28, 29, 30, 27, 31, 32, 33, 15, 16, 19, 21, 23, 34]\n",
            "edges: \n",
            " [(1, 2), (1, 3), (1, 4), (1, 5), (1, 6), (1, 7), (1, 8), (1, 9), (1, 11), (1, 12), (1, 13), (1, 14), (1, 18), (1, 20), (1, 22), (1, 32), (2, 3), (2, 4), (2, 8), (2, 14), (2, 18), (2, 20), (2, 22), (2, 31), (3, 4), (3, 8), (3, 9), (3, 10), (3, 14), (3, 28), (3, 29), (3, 33), (4, 8), (4, 13), (4, 14), (5, 7), (5, 11), (6, 7), (6, 11), (6, 17), (7, 17), (9, 31), (9, 33), (9, 34), (10, 34), (14, 34), (20, 34), (24, 26), (24, 28), (24, 30), (24, 33), (24, 34), (26, 25), (26, 32), (25, 28), (25, 32), (28, 34), (29, 32), (29, 34), (30, 27), (30, 33), (30, 34), (27, 34), (31, 33), (31, 34), (32, 33), (32, 34), (33, 15), (33, 16), (33, 19), (33, 21), (33, 23), (33, 34), (15, 34), (16, 34), (19, 34), (21, 34), (23, 34)]\n",
            "number of nodes :  34\n",
            "number of edges :  78\n",
            "Enter your choice! 1:information 2:visualization 3:compute NI 4:compute SIM 5:compute NNI 6:result 7:Time Complexity of Algorithm 0:exit : 0\n",
            "exit\n"
          ]
        }
      ]
    },
    {
      "cell_type": "code",
      "metadata": {
        "id": "TQLOfXmIGxbS",
        "colab": {
          "base_uri": "https://localhost:8080/",
          "height": 35
        },
        "outputId": "067d7ac2-5741-4e6d-c85d-518ce38cbc49"
      },
      "source": [
        "\"\"\"\n",
        "from google.colab import files\n",
        "uploaded = files.upload()\n",
        "\"\"\""
      ],
      "execution_count": 182,
      "outputs": [
        {
          "output_type": "execute_result",
          "data": {
            "application/vnd.google.colaboratory.intrinsic+json": {
              "type": "string"
            },
            "text/plain": [
              "'\\nfrom google.colab import files\\nuploaded = files.upload()\\n'"
            ]
          },
          "metadata": {},
          "execution_count": 182
        }
      ]
    }
  ]
}