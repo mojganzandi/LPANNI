{
  "nbformat": 4,
  "nbformat_minor": 0,
  "metadata": {
    "colab": {
      "name": "plot.ipynb",
      "provenance": [],
      "collapsed_sections": []
    },
    "kernelspec": {
      "name": "python3",
      "display_name": "Python 3"
    },
    "language_info": {
      "name": "python"
    }
  },
  "cells": [
    {
      "cell_type": "code",
      "metadata": {
        "id": "j0HfswRToKPU"
      },
      "source": [
        "import json\n",
        "import matplotlib.pyplot as plt\n",
        "import numpy as np"
      ],
      "execution_count": null,
      "outputs": []
    },
    {
      "cell_type": "code",
      "metadata": {
        "id": "U7xPKDOPoYyx"
      },
      "source": [
        "def plot_metric(result, key):\n",
        "    fig = plt.figure(figsize=(8.5, 6.5))\n",
        "    for i, N in enumerate([1000, 5000]):\n",
        "        for j, mu in enumerate([0.1, 0.3]):\n",
        "            ax1 = plt.subplot(2, 3, i+3*j+1)\n",
        "            p1, = ax1.plot(list(range(2,9)), result[str(N)][str(mu)][key], marker='s')\n",
        "            ax1.set_xlabel('om')\n",
        "            ax1.set_ylabel(key)\n",
        "            \n",
        "            plt.xticks(range(2,9))\n",
        "            plt.yticks(np.arange(0, 1.1, 0.1))\n",
        "            plt.title('N-{}-mu{:1.1f}'.format(N, mu))\n",
        "\n",
        "    plt.tight_layout()\n",
        "    plt.savefig(fname='{}.png'.format(key), format='png', dpi=300)\n",
        "    plt.cla()"
      ],
      "execution_count": null,
      "outputs": []
    },
    {
      "cell_type": "code",
      "metadata": {
        "id": "S3yNap_FoZCN"
      },
      "source": [
        "def main():\n",
        "    with open('LFR_nmi.json', 'r') as f:\n",
        "        NMI_result = json.load(f)\n",
        "    for key in ['NMI', 'NMI_max']:\n",
        "        plot_metric(NMI_result, key)\n",
        "\"\"\"\n",
        "    with open('LFR_omega.json', 'r') as f:\n",
        "        Omega_result = json.load(f)\n",
        "    plot_metric(Omega_result, 'omega')\n",
        "\"\"\"\n",
        "    with open('FScore.json', 'r') as f:\n",
        "        FScore_result = json.load(f)\n",
        "    for key in ['Precision', 'Recall', 'FScore']:\n",
        "        plot_metric(FScore_result, key)"
      ],
      "execution_count": null,
      "outputs": []
    },
    {
      "cell_type": "code",
      "metadata": {
        "id": "vke2RyaaoZMu",
        "colab": {
          "base_uri": "https://localhost:8080/",
          "height": 476
        },
        "outputId": "70c9893b-68ca-45ae-c0f3-e346b4dc8cc0"
      },
      "source": [
        "if __name__ == \"__main__\":\n",
        "    main()"
      ],
      "execution_count": null,
      "outputs": [
        {
          "output_type": "display_data",
          "data": {
            "image/png": "[encoded data removed]",
            "text/plain": [
              "<Figure size 612x468 with 4 Axes>"
            ]
          },
          "metadata": {
            "needs_background": "light"
          }
        }
      ]
    },
    {
      "cell_type": "code",
      "metadata": {
        "id": "WwdSVbQzoZVl",
        "colab": {
          "base_uri": "https://localhost:8080/",
          "height": 34
        },
        "outputId": "d9af74ee-af9f-4848-93ec-5bb730783a69"
      },
      "source": [
        "\"\"\"\n",
        "from google.colab import files\n",
        "uploaded = files.upload()\n",
        "\"\"\""
      ],
      "execution_count": null,
      "outputs": [
        {
          "output_type": "execute_result",
          "data": {
            "application/vnd.google.colaboratory.intrinsic+json": {
              "type": "string"
            },
            "text/plain": [
              "'\\nfrom google.colab import files\\nuploaded = files.upload()\\n'"
            ]
          },
          "metadata": {},
          "execution_count": 28
        }
      ]
    }
  ]
}